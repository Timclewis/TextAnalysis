{
 "cells": [
  {
   "cell_type": "markdown",
   "metadata": {
    "collapsed": true,
    "pycharm": {
     "name": "#%% md\n"
    }
   },
   "source": [
    "## 1. Imports"
   ]
  },
  {
   "cell_type": "code",
   "execution_count": 1,
   "metadata": {
    "pycharm": {
     "name": "#%%\n"
    }
   },
   "outputs": [
    {
     "ename": "ImportError",
     "evalue": "cannot import name 'to_catergorical' from 'tensorflow.keras.utils' (c:\\users\\timcl\\dataspellprojects\\pubidentify\\venv\\lib\\site-packages\\keras\\api\\_v2\\keras\\utils\\__init__.py)",
     "output_type": "error",
     "traceback": [
      "\u001B[1;31m---------------------------------------------------------------------------\u001B[0m",
      "\u001B[1;31mImportError\u001B[0m                               Traceback (most recent call last)",
      "Input \u001B[1;32mIn [1]\u001B[0m, in \u001B[0;36m<cell line: 13>\u001B[1;34m()\u001B[0m\n\u001B[0;32m     10\u001B[0m \u001B[38;5;28;01mfrom\u001B[39;00m \u001B[38;5;21;01mtensorflow\u001B[39;00m\u001B[38;5;21;01m.\u001B[39;00m\u001B[38;5;21;01mkeras\u001B[39;00m\u001B[38;5;21;01m.\u001B[39;00m\u001B[38;5;21;01mmodels\u001B[39;00m \u001B[38;5;28;01mimport\u001B[39;00m Sequential\n\u001B[0;32m     11\u001B[0m \u001B[38;5;28;01mfrom\u001B[39;00m \u001B[38;5;21;01mtensorflow\u001B[39;00m\u001B[38;5;21;01m.\u001B[39;00m\u001B[38;5;21;01mkeras\u001B[39;00m\u001B[38;5;21;01m.\u001B[39;00m\u001B[38;5;21;01mlayers\u001B[39;00m \u001B[38;5;28;01mimport\u001B[39;00m Dense, Dropout, LSTM, Embedding, Bidirectional\n\u001B[1;32m---> 13\u001B[0m \u001B[38;5;28;01mfrom\u001B[39;00m \u001B[38;5;21;01mtensorflow\u001B[39;00m\u001B[38;5;21;01m.\u001B[39;00m\u001B[38;5;21;01mkeras\u001B[39;00m\u001B[38;5;21;01m.\u001B[39;00m\u001B[38;5;21;01mutils\u001B[39;00m \u001B[38;5;28;01mimport\u001B[39;00m to_catergorical\n\u001B[0;32m     14\u001B[0m \u001B[38;5;28;01mfrom\u001B[39;00m \u001B[38;5;21;01mtensorflow\u001B[39;00m\u001B[38;5;21;01m.\u001B[39;00m\u001B[38;5;21;01mkeras\u001B[39;00m\u001B[38;5;21;01m.\u001B[39;00m\u001B[38;5;21;01mpreprocessing\u001B[39;00m\u001B[38;5;21;01m.\u001B[39;00m\u001B[38;5;21;01mtext\u001B[39;00m \u001B[38;5;28;01mimport\u001B[39;00m Tokenizer\n\u001B[0;32m     15\u001B[0m \u001B[38;5;28;01mfrom\u001B[39;00m \u001B[38;5;21;01mtensorflow\u001B[39;00m\u001B[38;5;21;01m.\u001B[39;00m\u001B[38;5;21;01mkeras\u001B[39;00m\u001B[38;5;21;01m.\u001B[39;00m\u001B[38;5;21;01mpreprocessing\u001B[39;00m\u001B[38;5;21;01m.\u001B[39;00m\u001B[38;5;21;01msequence\u001B[39;00m \u001B[38;5;28;01mimport\u001B[39;00m pad_sequences\n",
      "\u001B[1;31mImportError\u001B[0m: cannot import name 'to_catergorical' from 'tensorflow.keras.utils' (c:\\users\\timcl\\dataspellprojects\\pubidentify\\venv\\lib\\site-packages\\keras\\api\\_v2\\keras\\utils\\__init__.py)"
     ]
    }
   ],
   "source": [
    "import os\n",
    "import pandas as pd\n",
    "import shutil\n",
    "import json\n",
    "import numpy as np\n",
    "import random\n",
    "from matplotlib import pyplot as plt\n",
    "from random import sample\n",
    "import tensorflow as tf\n",
    "from tensorflow.keras.models import Sequential\n",
    "from tensorflow.keras.layers import Dense, Dropout, LSTM, Embedding, Bidirectional\n",
    "\n",
    "from tensorflow.keras.utils import to_catergorical\n",
    "from tensorflow.keras.preprocessing.text import Tokenizer\n",
    "from tensorflow.keras.preprocessing.sequence import pad_sequences\n",
    "\n",
    "print(f'Tensorflow version {tf.version.VERSION}')\n",
    "physical_devices = tf.config.list_physical_devices('GPU')\n",
    "print(physical_devices)\n",
    "tf.config.experimental.set_memory_growth(physical_devices[0], True)\n",
    "os.environ['TF_CPP_MIN_LOG_LEVEL'] = '2'\n"
   ]
  },
  {
   "cell_type": "markdown",
   "metadata": {
    "pycharm": {
     "name": "#%% md\n"
    }
   },
   "source": [
    "## 2. Datareader"
   ]
  },
  {
   "cell_type": "code",
   "execution_count": 11,
   "metadata": {
    "pycharm": {
     "name": "#%%\n"
    }
   },
   "outputs": [],
   "source": [
    "# 1.6 mil tweets but only positive or negative\n",
    "\n",
    "df = pd.read_csv('data/training.1600000.processed.noemoticon.csv', encoding='ISO-8859-1', header=None)\n",
    "df.columns = ['emotion', 'id', 'timestamp', 'query', 'username', 'tweet']\n",
    "df.drop(['id', 'query', 'username'],axis=1)\n",
    "df_sample = df.sample(frac = 1)\n",
    "\n",
    "df2 = pd.read_csv('data/sentimentData.csv')\n",
    "df2.columns = ['tweet', 'emotion']\n"
   ]
  },
  {
   "cell_type": "markdown",
   "metadata": {
    "pycharm": {
     "name": "#%% md\n"
    }
   },
   "source": [
    "## 3. Tokenizer"
   ]
  },
  {
   "cell_type": "code",
   "execution_count": 19,
   "metadata": {
    "pycharm": {
     "name": "#%%\n"
    }
   },
   "outputs": [],
   "source": [
    "fraction_df = 10\n",
    "len_df = int(df.shape[0])\n",
    "vocab_size = int(5e5)\n",
    "training_size = int(0.5 * len_df)\n",
    "max_length = 50\n",
    "embedding_dim = 16\n",
    "trunc_type = 'post'\n",
    "\n",
    "emos = df_sample['emotion'].to_numpy()\n",
    "emos = emos // 4\n",
    "timestamps = df_split['timestamp'].to_numpy()\n",
    "tweets = df_split['tweet'].to_numpy()\n",
    "\n",
    "train_sentences = tweets[0:training_size//fraction_df]\n",
    "test_sentences = tweets[training_size//fraction_df:len_df//fraction_df]\n",
    "train_emos = emos[0:training_size//fraction_df]\n",
    "test_emos = emos[training_size//fraction_df:len_df//fraction_df]\n",
    "train_timestamp = timestamps[0:training_size//fraction_df]\n",
    "train_timestamp = timestamps[training_size//fraction_df:len_df//fraction_df]\n",
    "\n",
    "tokenizer = Tokenizer(num_words = vocab_size, oov_token='<OOV>')\n",
    "tokenizer.fit_on_texts(train_sentences)\n",
    "word_index = tokenizer.word_index\n",
    "\n",
    "train_sequences = tokenizer.texts_to_sequences(train_sentences)\n",
    "train_padded = pad_sequences(train_sequences, maxlen=max_length,\n",
    "                            padding='post', truncating=trunc_type)\n",
    "test_sequences = tokenizer.texts_to_sequences(test_sentences)\n",
    "test_padded = pad_sequences(test_sequences, maxlen=max_length,\n",
    "                            padding='post', truncating=trunc_type)"
   ]
  },
  {
   "cell_type": "markdown",
   "metadata": {},
   "source": [
    "##  4. Model"
   ]
  },
  {
   "cell_type": "code",
   "execution_count": 34,
   "metadata": {
    "pycharm": {
     "name": "#%%\n"
    }
   },
   "outputs": [
    {
     "name": "stdout",
     "output_type": "stream",
     "text": [
      "Model: \"sequential_10\"\n",
      "_________________________________________________________________\n",
      " Layer (type)                Output Shape              Param #   \n",
      "=================================================================\n",
      " embedding_7 (Embedding)     (None, 50, 64)            32000000  \n",
      "                                                                 \n",
      " bidirectional_7 (Bidirectio  (None, 128)              66048     \n",
      " nal)                                                            \n",
      "                                                                 \n",
      " dense_18 (Dense)            (None, 32)                4128      \n",
      "                                                                 \n",
      " dense_19 (Dense)            (None, 1)                 33        \n",
      "                                                                 \n",
      "=================================================================\n",
      "Total params: 32,070,209\n",
      "Trainable params: 32,070,209\n",
      "Non-trainable params: 0\n",
      "_________________________________________________________________\n"
     ]
    },
    {
     "name": "stderr",
     "output_type": "stream",
     "text": [
      "c:\\users\\timcl\\dataspellprojects\\pubidentify\\venv\\lib\\site-packages\\keras\\optimizer_v2\\adam.py:105: UserWarning: The `lr` argument is deprecated, use `learning_rate` instead.\n",
      "  super(Adam, self).__init__(name, **kwargs)\n"
     ]
    }
   ],
   "source": [
    "model = Sequential()\n",
    "model.add(Embedding(vocab_size, 64, input_length=max_length))\n",
    "model.add(Bidirectional(LSTM(64)))\n",
    "model.add(Dense(32, activation='relu'))\n",
    "model.add(Dense(1, activation='sigmoid'))\n",
    "\n",
    "opt = tf.keras.optimizers.Adam(learning_rate=5e-6)\n",
    "\n",
    "model.compile(loss='catergorical_crossentropy',optimizer=opt, metrics=['accuracy'])\n",
    "model.summary()"
   ]
  },
  {
   "cell_type": "code",
   "execution_count": 36,
   "metadata": {
    "pycharm": {
     "name": "#%%\n"
    }
   },
   "outputs": [
    {
     "name": "stdout",
     "output_type": "stream",
     "text": [
      "Epoch 1/20\n",
      "2500/2500 [==============================] - 70s 28ms/step - loss: 0.4768 - accuracy: 0.7845 - val_loss: 0.5010 - val_accuracy: 0.7623\n",
      "Epoch 2/20\n",
      "2500/2500 [==============================] - 69s 27ms/step - loss: 0.4609 - accuracy: 0.7920 - val_loss: 0.4919 - val_accuracy: 0.7695\n",
      "Epoch 3/20\n",
      "2500/2500 [==============================] - 70s 28ms/step - loss: 0.4494 - accuracy: 0.7985 - val_loss: 0.4893 - val_accuracy: 0.7705\n",
      "Epoch 4/20\n",
      "2500/2500 [==============================] - 70s 28ms/step - loss: 0.4395 - accuracy: 0.8045 - val_loss: 0.4842 - val_accuracy: 0.7751\n",
      "Epoch 5/20\n",
      "2500/2500 [==============================] - 69s 28ms/step - loss: 0.4303 - accuracy: 0.8098 - val_loss: 0.4818 - val_accuracy: 0.7755\n",
      "Epoch 6/20\n",
      "2500/2500 [==============================] - 70s 28ms/step - loss: 0.4218 - accuracy: 0.8143 - val_loss: 0.4789 - val_accuracy: 0.7778\n",
      "Epoch 7/20\n",
      "2500/2500 [==============================] - 70s 28ms/step - loss: 0.4137 - accuracy: 0.8192 - val_loss: 0.4782 - val_accuracy: 0.7789\n",
      "Epoch 8/20\n",
      "2500/2500 [==============================] - 70s 28ms/step - loss: 0.4058 - accuracy: 0.8241 - val_loss: 0.4788 - val_accuracy: 0.7796\n",
      "Epoch 9/20\n",
      "2500/2500 [==============================] - 70s 28ms/step - loss: 0.3980 - accuracy: 0.8286 - val_loss: 0.4789 - val_accuracy: 0.7797\n",
      "Epoch 10/20\n",
      "2500/2500 [==============================] - 70s 28ms/step - loss: 0.3906 - accuracy: 0.8316 - val_loss: 0.4765 - val_accuracy: 0.7815\n",
      "Epoch 11/20\n",
      "2500/2500 [==============================] - 70s 28ms/step - loss: 0.3830 - accuracy: 0.8360 - val_loss: 0.4788 - val_accuracy: 0.7818\n",
      "Epoch 12/20\n",
      "2500/2500 [==============================] - 70s 28ms/step - loss: 0.3752 - accuracy: 0.8403 - val_loss: 0.4792 - val_accuracy: 0.7813\n",
      "Epoch 13/20\n",
      "2500/2500 [==============================] - 70s 28ms/step - loss: 0.3677 - accuracy: 0.8444 - val_loss: 0.4822 - val_accuracy: 0.7818\n",
      "Epoch 14/20\n",
      "2500/2500 [==============================] - 69s 28ms/step - loss: 0.3604 - accuracy: 0.8479 - val_loss: 0.4860 - val_accuracy: 0.7814\n",
      "Epoch 15/20\n",
      "2500/2500 [==============================] - 70s 28ms/step - loss: 0.3531 - accuracy: 0.8522 - val_loss: 0.4857 - val_accuracy: 0.7811\n",
      "Epoch 16/20\n",
      "2500/2500 [==============================] - 70s 28ms/step - loss: 0.3457 - accuracy: 0.8558 - val_loss: 0.4876 - val_accuracy: 0.7805\n",
      "Epoch 17/20\n",
      "2500/2500 [==============================] - 71s 28ms/step - loss: 0.3383 - accuracy: 0.8597 - val_loss: 0.4928 - val_accuracy: 0.7788\n",
      "Epoch 18/20\n",
      "2500/2500 [==============================] - 71s 28ms/step - loss: 0.3309 - accuracy: 0.8640 - val_loss: 0.4985 - val_accuracy: 0.7780\n",
      "Epoch 19/20\n",
      "2500/2500 [==============================] - 71s 28ms/step - loss: 0.3234 - accuracy: 0.8676 - val_loss: 0.4977 - val_accuracy: 0.7782\n",
      "Epoch 20/20\n",
      "2500/2500 [==============================] - 70s 28ms/step - loss: 0.3157 - accuracy: 0.8719 - val_loss: 0.5085 - val_accuracy: 0.7766\n"
     ]
    }
   ],
   "source": [
    "num_epochs = 20\n",
    "history = model.fit(train_padded, train_emos, epochs=num_epochs,\n",
    "                     validation_data=(test_padded, test_emos), verbose=1)\n",
    "#\n",
    "# plt.plot(history.history[string])\n",
    "# plt.plot(history.history['val_'+string])\n",
    "# plt.xlabel(\"Epochs\")\n",
    "# plt.ylabel(string)\n",
    "# plt.legend([string, 'val_'+string])\n",
    "# plt.show()\n",
    "#\n",
    "# plot_graphs(history, \"accuracy\")\n",
    "# plot_graphs(history, \"loss\")d, training_labels, epochs=num_epochs, validation_data=(testing_padded, testing_labels), verbose=2)"
   ]
  },
  {
   "cell_type": "code",
   "execution_count": 37,
   "metadata": {
    "pycharm": {
     "name": "#%%\n"
    }
   },
   "outputs": [
    {
     "data": {
      "image/png": "[encoded data removed]",
      "text/plain": [
       "<Figure size 432x288 with 1 Axes>"
      ]
     },
     "metadata": {
      "needs_background": "light"
     },
     "output_type": "display_data"
    },
    {
     "data": {
      "image/png": "[encoded data removed]",
      "text/plain": [
       "<Figure size 432x288 with 1 Axes>"
      ]
     },
     "metadata": {
      "needs_background": "light"
     },
     "output_type": "display_data"
    }
   ],
   "source": [
    "def plot_graphs(history, string):\n",
    "    plt.plot(history.history[string])\n",
    "    plt.plot(history.history['val_'+string])\n",
    "    plt.xlabel(\"Epochs\")\n",
    "    plt.ylabel(string)\n",
    "    plt.legend([string, 'val_'+string])\n",
    "    plt.show()\n",
    "\n",
    "plot_graphs(history, \"accuracy\")\n",
    "plot_graphs(history, \"loss\")"
   ]
  },
  {
   "cell_type": "code",
   "execution_count": 31,
   "metadata": {
    "pycharm": {
     "name": "#%%\n"
    }
   },
   "outputs": [
    {
     "name": "stdout",
     "output_type": "stream",
     "text": [
      "[[0.06482308]\n",
      " [0.8401155 ]\n",
      " [0.30533323]\n",
      " [0.07781772]\n",
      " [0.10338055]]\n"
     ]
    }
   ],
   "source": [
    "predict_sentence = [\n",
    "    'I fucking hate everyone',\n",
    "    'I love you so much',\n",
    "    'Why dont you love me?',\n",
    "    'I dont want to live',\n",
    "    'I want to sleep with him'\n",
    "]\n",
    "\n",
    "seq = tokenizer.texts_to_sequences(predict_sentence)\n",
    "\n",
    "predict_padded = pad_sequences(seq, maxlen=max_length,\n",
    "                               padding='post', truncating=trunc_type)\n",
    "\n",
    "pred = model.predict(predict_padded)\n",
    "print(pred)\n",
    "#print(np.rint(pred))\n"
   ]
  },
  {
   "cell_type": "code",
   "execution_count": null,
   "metadata": {
    "pycharm": {
     "name": "#%%\n"
    }
   },
   "outputs": [],
   "source": []
  }
 ],
 "metadata": {
  "kernelspec": {
   "display_name": "Python 3 (ipykernel)",
   "language": "python",
   "name": "python3"
  },
  "language_info": {
   "codemirror_mode": {
    "name": "ipython",
    "version": 3
   },
   "file_extension": ".py",
   "mimetype": "text/x-python",
   "name": "python",
   "nbconvert_exporter": "python",
   "pygments_lexer": "ipython3",
   "version": "3.9.6"
  }
 },
 "nbformat": 4,
 "nbformat_minor": 1
}